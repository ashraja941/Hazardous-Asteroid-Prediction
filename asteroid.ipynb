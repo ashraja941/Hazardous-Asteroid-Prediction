{
  "cells": [
    {
      "cell_type": "code",
      "source": [
        "from google.colab import drive\n",
        "drive.mount('/content/gdrive')\n",
        "!ln -s /content/gdrive/My\\ Drive/ /mydrive\n",
        "!ls /mydrive"
      ],
      "metadata": {
        "id": "UyjsOmBIllCk",
        "colab": {
          "base_uri": "https://localhost:8080/"
        },
        "outputId": "e7db1019-8cba-4e5e-cfe8-779aa03d91f4"
      },
      "execution_count": null,
      "outputs": [
        {
          "output_type": "stream",
          "name": "stdout",
          "text": [
            "Drive already mounted at /content/gdrive; to attempt to forcibly remount, call drive.mount(\"/content/gdrive\", force_remount=True).\n",
            "ln: failed to create symbolic link '/mydrive/My Drive': File exists\n",
            "'Ashwin Raja 10th and 12th marksheet.pdf'\n",
            " asteriod\n",
            "'BFS and Astar.gslides'\n",
            "'CD Lab exp 1.gdoc'\n",
            " Classroom\n",
            "'Colab Notebooks'\n",
            "'Copy of IMPLEMENTATION OF SYMBOL TABLE.gdoc'\n",
            " ct2-002.pdf\n",
            "'ct2 ga 002.pdf'\n",
            " ct3-002.pdf\n",
            "'ct3 ga 002.pdf'\n",
            "'ct3 gw 002.pdf'\n",
            "'Game design .pdf'\n",
            " generate_train.py\n",
            "'My Drive'\n",
            " participants\n",
            "'pixel art (1).pdf'\n",
            "'pixel art (2).pdf'\n",
            "'pixel art.pdf'\n",
            "'PPT-DM-UNIT4-GROUP THEORY-REV 1.gslides'\n",
            "'Sample Resume ESP 002.gdoc'\n",
            "'weights backup '\n",
            " yolov3\n"
          ]
        }
      ]
    },
    {
      "cell_type": "code",
      "source": [
        "!cp /mydrive/asteriod/dataset.csv ./"
      ],
      "metadata": {
        "id": "0JAhO-5blrTs"
      },
      "execution_count": null,
      "outputs": []
    },
    {
      "cell_type": "code",
      "execution_count": null,
      "metadata": {
        "id": "csYbutIxlkTQ"
      },
      "outputs": [],
      "source": [
        "import timeit\n",
        "import pandas as pd\n",
        "import matplotlib.pyplot as plt\n",
        "import seaborn as sns\n",
        "import numpy as np\n",
        "import mlxtend\n",
        "import warnings\n",
        "warnings.filterwarnings(\"ignore\")"
      ]
    },
    {
      "cell_type": "code",
      "execution_count": null,
      "metadata": {
        "id": "AaEjNb3flkTU",
        "colab": {
          "base_uri": "https://localhost:8080/"
        },
        "outputId": "05d9bf94-9d8a-4403-abea-6edee4c6421b"
      },
      "outputs": [
        {
          "output_type": "stream",
          "name": "stdout",
          "text": [
            "(958524, 45)\n",
            "              spkid              H       diameter         albedo  \\\n",
            "count  9.585240e+05  952261.000000  136209.000000  135103.000000   \n",
            "mean   3.810114e+06      16.906411       5.506429       0.130627   \n",
            "std    6.831541e+06       1.790405       9.425164       0.110323   \n",
            "min    2.000001e+06      -1.100000       0.002500       0.001000   \n",
            "25%    2.239632e+06      16.100000       2.780000       0.053000   \n",
            "50%    2.479262e+06      16.900000       3.972000       0.079000   \n",
            "75%    3.752518e+06      17.714000       5.765000       0.190000   \n",
            "max    5.401723e+07      33.200000     939.400000       1.000000   \n",
            "\n",
            "       diameter_sigma         epoch      epoch_mjd     epoch_cal  \\\n",
            "count   136081.000000  9.585240e+05  958524.000000  9.585240e+05   \n",
            "mean         0.479184  2.458869e+06   58868.781950  2.019693e+07   \n",
            "std          0.782895  7.016716e+02     701.671573  1.930354e+04   \n",
            "min          0.000500  2.425052e+06   25051.000000  1.927062e+07   \n",
            "25%          0.180000  2.459000e+06   59000.000000  2.020053e+07   \n",
            "50%          0.332000  2.459000e+06   59000.000000  2.020053e+07   \n",
            "75%          0.620000  2.459000e+06   59000.000000  2.020053e+07   \n",
            "max        140.000000  2.459000e+06   59000.000000  2.020053e+07   \n",
            "\n",
            "                   e              a  ...       sigma_q       sigma_i  \\\n",
            "count  958524.000000  958524.000000  ...  9.386020e+05  9.386020e+05   \n",
            "mean        0.156116       2.902143  ...  1.982929e+01  1.168449e+00   \n",
            "std         0.092643      39.719503  ...  2.903785e+03  1.282231e+02   \n",
            "min         0.000000  -14702.447872  ...  1.956900e-11  4.608900e-09   \n",
            "25%         0.092193       2.387835  ...  1.462000e-07  6.095900e-06   \n",
            "50%         0.145002       2.646969  ...  2.271900e-07  8.688800e-06   \n",
            "75%         0.200650       3.001932  ...  6.583200e-07  1.591500e-05   \n",
            "max         1.855356   33488.895955  ...  1.015000e+06  5.533000e+04   \n",
            "\n",
            "           sigma_om       sigma_w      sigma_ma      sigma_ad       sigma_n  \\\n",
            "count  9.386020e+05  9.386020e+05  9.386020e+05  9.385980e+05  9.386020e+05   \n",
            "mean   5.310234e+00  1.370062e+06  1.369977e+06  2.131453e+01  5.060221e-02   \n",
            "std    1.333381e+03  9.158996e+08  9.158991e+08  7.197034e+03  9.814953e+00   \n",
            "min    6.168800e-08  6.624800e-08  7.820700e-09  1.111300e-11  1.196500e-12   \n",
            "25%    3.619400e-05  5.755000e-05  2.573700e-05  2.340900e-08  2.768800e-09   \n",
            "50%    6.642550e-05  1.047100e-04  4.900100e-05  4.359000e-08  4.638000e-09   \n",
            "75%    1.609775e-04  3.114400e-04  1.718900e-04  1.196600e-07  1.124000e-08   \n",
            "max    1.199100e+06  8.845100e+11  8.845100e+11  5.509700e+06  7.698800e+03   \n",
            "\n",
            "           sigma_tp     sigma_per            rms  \n",
            "count  9.386020e+05  9.385980e+05  958522.000000  \n",
            "mean   4.312780e+08  8.525815e+04       0.561153  \n",
            "std    2.953046e+11  2.767681e+07       2.745700  \n",
            "min    3.782900e-08  9.415900e-09       0.000000  \n",
            "25%    1.110900e-04  1.794500e-05       0.518040  \n",
            "50%    2.230800e-04  3.501700e-05       0.566280  \n",
            "75%    8.139600e-04  9.775475e-05       0.613927  \n",
            "max    2.853100e+14  1.910700e+10    2686.600000  \n",
            "\n",
            "[8 rows x 35 columns]\n",
            "N    936537\n",
            "Y      2066\n",
            "Name: pha, dtype: int64\n",
            "Potential threat asteroids are: 0.221%\n",
            "Threat asteroids:  2066\n",
            "Non-Threat asteroids:  936537\n"
          ]
        }
      ],
      "source": [
        "df=pd.read_csv('dataset.csv')\n",
        "ast=df.head(100)\n",
        "\n",
        "print(df.shape)\n",
        "print(df.describe())\n",
        "\n",
        "#df = df.sample(frac=0.01, random_state = 42)\n",
        "df.drop(['name','equinox','pdes','id','prefix','spkid','full_name'],axis=1,inplace=True)\n",
        "\n",
        "\n",
        "print(df.pha.value_counts()) #how many belong to each class of target variable\n",
        "\n",
        "threat=df[df.pha=='Y']\n",
        "non_threat=df[df.pha=='N']\n",
        "outlier_percentage=(df.pha.value_counts()[1]/df.pha.value_counts()[0])*100\n",
        "print('Potential threat asteroids are: %.3f%%'%outlier_percentage)\n",
        "print('Threat asteroids: ',len(threat))\n",
        "print('Non-Threat asteroids: ',len(non_threat))"
      ]
    },
    {
      "cell_type": "code",
      "execution_count": null,
      "metadata": {
        "id": "xT1wPBTqlkTW"
      },
      "outputs": [],
      "source": [
        "null_cutoff=0.5\n",
        "\n",
        "\n",
        "def numericalCategoricalSplit(df):\n",
        "    numerical_features=df.select_dtypes(exclude=['object']).columns\n",
        "    categorical_features=df.select_dtypes(include=['object']).columns\n",
        "    numerical_data=df[numerical_features]\n",
        "    categorical_data=df[categorical_features]\n",
        "    return(numerical_data,categorical_data)\n",
        "numerical=numericalCategoricalSplit(df)[0]\n",
        "categorical=numericalCategoricalSplit(df)[1]\n",
        "\n"
      ]
    },
    {
      "cell_type": "code",
      "execution_count": null,
      "metadata": {
        "id": "9iwrlHsZlkTX"
      },
      "outputs": [],
      "source": [
        "\n",
        "def nullFind(df):\n",
        "    null_numerical=pd.isnull(df).sum().sort_values(ascending=False)\n",
        "    #null_numerical=null_numerical[null_numerical>=0]\n",
        "    null_categorical=pd.isnull(df).sum().sort_values(ascending=False)\n",
        "   # null_categorical=null_categorical[null_categorical>=0]\n",
        "    return(null_numerical,null_categorical)\n",
        "null_numerical=nullFind(numerical)[0]\n",
        "null_categorical=nullFind(categorical)[1]\n",
        "\n",
        "\n",
        "null=pd.concat([null_numerical,null_categorical])\n",
        "null_df=pd.DataFrame({'Null_in_Data':null}).sort_values(by=['Null_in_Data'],ascending=False)\n",
        "null_df_many=(null_df.loc[(null_df.Null_in_Data>null_cutoff*len(df))])\n",
        "null_df_few=(null_df.loc[(null_df.Null_in_Data!=0)&(null_df.Null_in_Data<null_cutoff*len(df))])\n",
        "\n",
        "\n",
        "many_null_col_list=null_df_many.index\n",
        "few_null_col_list=null_df_few.index\n",
        "\n",
        "#remove many null columns\n",
        "df_wo_null=df.drop(many_null_col_list,axis=1)\n",
        "def removeNullRows(df):\n",
        "    for col in few_null_col_list:\n",
        "        df=df[df[col].notnull()]\n",
        "    return(df)\n",
        "    \n",
        "df_wo_null=(removeNullRows(df_wo_null)) \n",
        "\n",
        "#dividing the X and the y\n",
        "X=df_wo_null.drop(['pha'], axis=1)\n",
        "y=df_wo_null.pha\n",
        "\n",
        "\n"
      ]
    },
    {
      "cell_type": "code",
      "execution_count": null,
      "metadata": {
        "id": "SSGw12QKlkTY"
      },
      "outputs": [],
      "source": [
        "from sklearn.model_selection import train_test_split\n",
        "X_train, X_test, y_train, y_test = train_test_split(X, y, test_size = 0.3, random_state = 42)\n",
        "\n",
        "\n",
        "\n",
        "\n",
        "from sklearn.preprocessing import OneHotEncoder, LabelEncoder, StandardScaler\n",
        "from sklearn.linear_model import LogisticRegression\n",
        "from sklearn.neighbors import KNeighborsClassifier\n",
        "from sklearn.svm import SVC\n",
        "from sklearn.naive_bayes import GaussianNB\n",
        "from sklearn.ensemble import RandomForestClassifier,ExtraTreesClassifier\n",
        "from sklearn.model_selection import cross_val_score, GridSearchCV, RandomizedSearchCV\n",
        "from sklearn.decomposition import PCA\n",
        "from mlxtend.plotting import plot_decision_regions as plot_dr \n"
      ]
    },
    {
      "cell_type": "code",
      "execution_count": null,
      "metadata": {
        "id": "22gezzv5lkTZ"
      },
      "outputs": [],
      "source": [
        "logreg=LogisticRegression()\n",
        "SVM=SVC()\n",
        "knn=KNeighborsClassifier()\n",
        "gnb=GaussianNB()\n",
        "etree=ExtraTreesClassifier(random_state=42)\n",
        "rforest=RandomForestClassifier(random_state=42)\n",
        "\n",
        "\n",
        "\n",
        "scaler=StandardScaler()\n",
        "ohe=OneHotEncoder(sparse=False)\n",
        "le=LabelEncoder()\n",
        "\n",
        "features=X_train.columns.tolist()\n",
        "\n",
        "X_train[categorical.columns.drop('pha')]=X_train[categorical.columns.drop('pha')].apply(le.fit_transform)\n",
        "X_test[categorical.columns.drop('pha')]=X_test[categorical.columns.drop('pha')].apply(le.fit_transform)\n",
        "y_train=le.fit_transform(y_train)\n",
        "y_test=le.fit_transform(y_test)\n",
        "\n",
        "\n",
        "\n",
        "X_train_scaled=scaler.fit_transform(X_train) \n",
        "X_test_scaled=scaler.fit_transform(X_test) \n",
        "\n",
        "\n"
      ]
    },
    {
      "cell_type": "code",
      "execution_count": null,
      "metadata": {
        "id": "pdZoaNfylkTZ",
        "colab": {
          "base_uri": "https://localhost:8080/",
          "height": 904
        },
        "outputId": "4b138d68-5583-455b-befa-d97f15824fd3"
      },
      "outputs": [
        {
          "output_type": "stream",
          "name": "stdout",
          "text": [
            "Feature: 0, Score: 0.05723\n",
            "Feature: 1, Score: 0.16971\n",
            "Feature: 2, Score: 0.02370\n",
            "Feature: 3, Score: 0.00913\n",
            "Feature: 4, Score: 0.00768\n",
            "Feature: 5, Score: 0.00894\n",
            "Feature: 6, Score: 0.04034\n",
            "Feature: 7, Score: 0.01707\n",
            "Feature: 8, Score: 0.03944\n",
            "Feature: 9, Score: 0.03156\n",
            "Feature: 10, Score: 0.01612\n",
            "Feature: 11, Score: 0.01814\n",
            "Feature: 12, Score: 0.01783\n",
            "Feature: 13, Score: 0.01943\n",
            "Feature: 14, Score: 0.02111\n",
            "Feature: 15, Score: 0.01780\n",
            "Feature: 16, Score: 0.01755\n",
            "Feature: 17, Score: 0.01748\n",
            "Feature: 18, Score: 0.01740\n",
            "Feature: 19, Score: 0.11945\n",
            "Feature: 20, Score: 0.11683\n",
            "Feature: 21, Score: 0.02623\n",
            "Feature: 22, Score: 0.01401\n",
            "Feature: 23, Score: 0.00614\n",
            "Feature: 24, Score: 0.02386\n",
            "Feature: 25, Score: 0.01309\n",
            "Feature: 26, Score: 0.00032\n",
            "Feature: 27, Score: 0.00112\n",
            "Feature: 28, Score: 0.01369\n",
            "Feature: 29, Score: 0.02936\n",
            "Feature: 30, Score: 0.00009\n",
            "Feature: 31, Score: 0.00659\n",
            "Feature: 32, Score: 0.04389\n",
            "Feature: 33, Score: 0.01769\n",
            "Execution Time for feature selection: 0.21 minutes\n"
          ]
        },
        {
          "output_type": "display_data",
          "data": {
            "text/plain": [
              "<Figure size 432x288 with 1 Axes>"
            ],
            "image/png": "[encoded data removed]"
          },
          "metadata": {
            "needs_background": "light"
          }
        }
      ],
      "source": [
        "#feature selection\n",
        "start_time = timeit.default_timer()\n",
        "mod=etree\n",
        "# fit the model\n",
        "mod.fit(X_train_scaled, y_train)\n",
        "# get importance\n",
        "importance = mod.feature_importances_\n",
        "# summarize feature importance\n",
        "for i,v in enumerate(importance):\n",
        "\tprint('Feature: %0d, Score: %.5f' % (i,v))\n",
        "# plot feature importance\n",
        "df_importance=pd.DataFrame({'importance':importance},index=features)\n",
        "df_importance.plot(kind='barh')\n",
        "#plt.bar([x for x in range(len(importance))], importance)\n",
        "elapsed = timeit.default_timer() - start_time\n",
        "print('Execution Time for feature selection: %.2f minutes'%(elapsed/60))\n"
      ]
    },
    {
      "cell_type": "code",
      "execution_count": null,
      "metadata": {
        "id": "cWnjMiYnlkTb"
      },
      "outputs": [],
      "source": [
        "feature_imp=list(zip(features,importance))\n",
        "feature_sort=sorted(feature_imp, key = lambda x: x[1]) \n",
        "n_top_features=20\n",
        "top_features=list(list(zip(*feature_sort[-n_top_features:]))[0])\n",
        "\n",
        "X_train_sfs=X_train[top_features]\n",
        "X_test_sfs=X_test[top_features]\n",
        "\n",
        "X_train_sfs_scaled=scaler.fit_transform(X_train_sfs)\n",
        "X_test_sfs_scaled=scaler.fit_transform(X_test_sfs)\n"
      ]
    },
    {
      "cell_type": "code",
      "execution_count": null,
      "metadata": {
        "id": "TZL_l88zlkTc"
      },
      "outputs": [],
      "source": [
        "import keras\n",
        "from keras.models import Sequential\n",
        "from keras.layers import Dense, Dropout\n",
        "from keras import optimizers\n",
        "from sklearn.metrics import  confusion_matrix,classification_report,matthews_corrcoef\n",
        "import tensorflow as tf  \n",
        "\n",
        "\n"
      ]
    },
    {
      "cell_type": "code",
      "execution_count": null,
      "metadata": {
        "id": "2hp4OuWElkTc"
      },
      "outputs": [],
      "source": [
        "def LearningCurve(history):\n",
        "    # summarize history for accuracy\n",
        "    plt.subplot(211)\n",
        "    plt.plot(history.history['acc'])\n",
        "    plt.plot(history.history['val_acc'])\n",
        "    plt.title('model accuracy')\n",
        "    plt.ylabel('accuracy')\n",
        "    plt.xlabel('epoch')\n",
        "    plt.legend(['train', 'val'], loc='upper left')\n",
        "    plt.show()\n",
        "    # summarize history for loss\n",
        "    plt.subplot(212)\n",
        "    plt.plot(history.history['loss'])\n",
        "    plt.plot(history.history['val_loss'])\n",
        "    plt.title('model loss')\n",
        "    plt.ylabel('loss')\n",
        "    plt.xlabel('epoch')\n",
        "    plt.legend(['train', 'test'], loc='upper left')\n",
        "    plt.show()\n",
        "    \n",
        "    \n",
        "def PerformanceReports(conf_matrix,class_report,labels):\n",
        "    ax= plt.subplot()\n",
        "    sns.heatmap(conf_matrix, annot=True,ax=ax)\n",
        "    # labels, title and ticks\n",
        "    ax.set_xlabel('Predicted labels')\n",
        "    ax.set_ylabel('True labels') \n",
        "    ax.set_title('Confusion Matrix'); \n",
        "    ax.xaxis.set_ticklabels(labels)\n",
        "    ax.yaxis.set_ticklabels(labels[::-1])\n",
        "    plt.show()\n",
        "    sns.heatmap(pd.DataFrame(class_report).iloc[:-1, :].T, annot=True)\n",
        "    plt.show()\n",
        "\n",
        "\n",
        "def NNmodel(init_mode,act,opt,n_top_features=n_top_features):\n",
        "    np.random.seed(42)  \n",
        "    tf.random.set_seed(42)\n",
        "    \n",
        "    # building a linear stack of layers with the sequential model\n",
        "    model = Sequential()\n",
        "    \n",
        "    # hidden layer\n",
        "    \n",
        "    model.add(Dense(16,input_dim=n_top_features, kernel_initializer=init_mode, activation=act))\n",
        "    model.add(Dropout(0.2))\n",
        "    model.add(Dense(16, kernel_initializer=init_mode,activation=act))\n",
        "    model.add(Dropout(0.2))\n",
        "    \n",
        "   \n",
        "    # output layer\n",
        "    model.add(Dense(1, activation='sigmoid'))\n",
        "    \n",
        "    \n",
        "    # compiling the sequential model\n",
        "    \n",
        "    model.compile(loss='binary_crossentropy', metrics=['acc'], optimizer=opt)\n",
        "    return model\n",
        "\n",
        "def NNperformance(init_mode,act,opt,n_top_features,epochs,batch_size,labels,X_train_sfs_scaled, y_train,X_test_sfs_scaled, y_test):\n",
        "    np.random.seed(42)  \n",
        "    tf.random.set_seed(42)\n",
        "    \n",
        "    #fit the keras model on the dataset\n",
        "    start_time = timeit.default_timer()\n",
        "    #weights = {0:2, 1:100}\n",
        "    model=NNmodel(init_mode,act,opt,n_top_features)\n",
        "    #history=model.fit(X_train_sfs_scaled, y_train, epochs=4, batch_size=1000,validation_data=(X_test_sfs_scaled, y_test),class_weight=weights, shuffle=True)\n",
        "    history=model.fit(X_train_sfs_scaled, y_train, epochs=epochs, batch_size=batch_size,validation_data=(X_test_sfs_scaled, y_test), shuffle=True)\n",
        "    scores_train = model.evaluate(X_train_sfs_scaled, y_train)\n",
        "    scores_test = model.evaluate(X_test_sfs_scaled, y_test)\n",
        "    print('Train Accuracy: %.2f' % (scores_train[1]*100))\n",
        "    print('Test Accuracy: %.2f' % (scores_test[1]*100))\n",
        "    \n",
        "    # make class predictions with the model\n",
        "    #y_pred = model.predict_classes(X_test_sfs_scaled)\n",
        "    y_pred = np.argmax(model.predict(X_test_sfs_scaled),axis=1)\n",
        "\n",
        "    \"\"\"\n",
        "    predict_x=model.predict(X_test) \n",
        "    classes_x=np.argmax(predict_x,axis=1)\n",
        "\n",
        "    predictions = np.argmax(model.predict(x_test),axis=1)\n",
        "    \"\"\"\n",
        "    \n",
        "    cm=confusion_matrix(y_test,y_pred)\n",
        "    print('Confusion Matrix: ',cm)\n",
        "    cr=classification_report(y_test, y_pred,target_names=labels,output_dict=True)\n",
        "    print('Classification Report: ',classification_report(y_test, y_pred))\n",
        "    mcc= matthews_corrcoef(y_test, y_pred)\n",
        "    print('Matthews Correlation Coefficient: ',mcc)\n",
        "\n",
        "    PerformanceReports(cm,cr,labels)\n",
        "                     \n",
        "    elapsed = timeit.default_timer() - start_time\n",
        "    print('Execution Time for deep learning model: %.2f minutes'%(elapsed/60))\n",
        "    \n",
        "    LearningCurve(history)   \n",
        "    \n",
        "    \n"
      ]
    },
    {
      "cell_type": "code",
      "execution_count": null,
      "metadata": {
        "id": "q35_ujR3lkTd",
        "colab": {
          "base_uri": "https://localhost:8080/"
        },
        "outputId": "5921e892-8f1c-4f70-c5cb-c7c9afed84f2"
      },
      "outputs": [
        {
          "output_type": "stream",
          "name": "stdout",
          "text": [
            "Fitting 3 folds for each of 10 candidates, totalling 30 fits\n",
            "Epoch 1/10\n",
            "10198/10198 [==============================] - 41s 4ms/step - loss: 0.0162 - acc: 0.9948\n",
            "Epoch 2/10\n",
            "10198/10198 [==============================] - 41s 4ms/step - loss: 0.0061 - acc: 0.9975\n",
            "Epoch 3/10\n",
            "10198/10198 [==============================] - 40s 4ms/step - loss: 0.0054 - acc: 0.9978\n",
            "Epoch 4/10\n",
            "10198/10198 [==============================] - 40s 4ms/step - loss: 0.0051 - acc: 0.9978\n",
            "Epoch 5/10\n",
            "10198/10198 [==============================] - 41s 4ms/step - loss: 0.0047 - acc: 0.9980\n",
            "Epoch 6/10\n",
            "10198/10198 [==============================] - 40s 4ms/step - loss: 0.0046 - acc: 0.9980\n",
            "Epoch 7/10\n",
            "10198/10198 [==============================] - 41s 4ms/step - loss: 0.0045 - acc: 0.9980\n",
            "Epoch 8/10\n",
            "10198/10198 [==============================] - 41s 4ms/step - loss: 0.0043 - acc: 0.9981\n",
            "Epoch 9/10\n",
            "10198/10198 [==============================] - 40s 4ms/step - loss: 0.0043 - acc: 0.9981\n",
            "Epoch 10/10\n",
            "10198/10198 [==============================] - 40s 4ms/step - loss: 0.0041 - acc: 0.9982\n"
          ]
        }
      ],
      "source": [
        "batch_size = 64\n",
        "epochs = 10\n",
        "\n",
        "\n",
        "from keras.wrappers.scikit_learn import KerasClassifier\n",
        "model_CV = KerasClassifier(build_fn=NNmodel, epochs=epochs, \n",
        "                           batch_size=batch_size, verbose=1)\n",
        "# define the grid search parameters\n",
        "#init_mode = ['uniform', 'lecun_uniform', 'normal', 'zero', 'glorot_normal', 'glorot_uniform', 'he_normal', 'he_uniform']\n",
        "\n",
        "\n",
        "init_mode = ['he_uniform','glorot_uniform']\n",
        "act=['relu','selu','tanh']\n",
        "opt=['rmsprop','adam']\n",
        "param_distributions={'init_mode':init_mode,'act':act,'opt':opt}\n",
        "\n",
        "\n",
        "\n",
        "\n",
        "rand = RandomizedSearchCV(estimator=model_CV, param_distributions=param_distributions, n_jobs=-1, cv=3,random_state=42,verbose=10)\n",
        "rand_result = rand.fit(X_train_sfs_scaled, y_train)\n",
        "\n"
      ]
    },
    {
      "cell_type": "code",
      "execution_count": null,
      "metadata": {
        "id": "9DpnqpaBlkTe",
        "colab": {
          "base_uri": "https://localhost:8080/"
        },
        "outputId": "b545d743-d17f-43b1-953e-7e6d034bba0b"
      },
      "outputs": [
        {
          "output_type": "stream",
          "name": "stdout",
          "text": [
            "Best Accuracy for 0.9983834822972616 using {'opt': 'adam', 'init_mode': 'glorot_uniform', 'act': 'tanh'}\n",
            " mean=0.9979, std=7.662e-05 using {'opt': 'rmsprop', 'init_mode': 'glorot_uniform', 'act': 'tanh'}\n",
            " mean=0.9984, std=4.551e-05 using {'opt': 'adam', 'init_mode': 'he_uniform', 'act': 'tanh'}\n",
            " mean=0.9978, std=8.097e-05 using {'opt': 'rmsprop', 'init_mode': 'he_uniform', 'act': 'relu'}\n",
            " mean=0.9979, std=7.547e-05 using {'opt': 'rmsprop', 'init_mode': 'he_uniform', 'act': 'tanh'}\n",
            " mean=0.9983, std=0.0001239 using {'opt': 'adam', 'init_mode': 'he_uniform', 'act': 'selu'}\n",
            " mean=0.9979, std=0.0001021 using {'opt': 'rmsprop', 'init_mode': 'glorot_uniform', 'act': 'relu'}\n",
            " mean=0.9982, std=9.62e-05 using {'opt': 'adam', 'init_mode': 'he_uniform', 'act': 'relu'}\n",
            " mean=0.9984, std=5.258e-05 using {'opt': 'adam', 'init_mode': 'glorot_uniform', 'act': 'tanh'}\n",
            " mean=0.998, std=8.145e-05 using {'opt': 'rmsprop', 'init_mode': 'he_uniform', 'act': 'selu'}\n",
            " mean=0.9984, std=0.0001121 using {'opt': 'adam', 'init_mode': 'glorot_uniform', 'act': 'selu'}\n"
          ]
        }
      ],
      "source": [
        "print(f'Best Accuracy for {rand_result.best_score_} using {rand_result.best_params_}')\n",
        "means = rand_result.cv_results_['mean_test_score']\n",
        "stds = rand_result.cv_results_['std_test_score']\n",
        "params = rand_result.cv_results_['params']\n",
        "for mean, stdev, param in zip(means, stds, params):\n",
        "    print(f' mean={mean:.4}, std={stdev:.4} using {param}')\n",
        "\n",
        "\n",
        "init_mode=rand_result.best_params_['init_mode']\n",
        "act=rand_result.best_params_['act']\n",
        "opt=rand_result.best_params_['opt']"
      ]
    },
    {
      "cell_type": "code",
      "execution_count": null,
      "metadata": {
        "id": "5c-TyE-JlkTe",
        "colab": {
          "base_uri": "https://localhost:8080/",
          "height": 1770
        },
        "outputId": "bf846629-af91-4208-c702-b5be8f612567"
      },
      "outputs": [
        {
          "output_type": "stream",
          "name": "stdout",
          "text": [
            "Epoch 1/10\n",
            "10198/10198 [==============================] - 52s 5ms/step - loss: 0.0162 - acc: 0.9948 - val_loss: 0.0052 - val_acc: 0.9978\n",
            "Epoch 2/10\n",
            "10198/10198 [==============================] - 51s 5ms/step - loss: 0.0061 - acc: 0.9975 - val_loss: 0.0044 - val_acc: 0.9980\n",
            "Epoch 3/10\n",
            "10198/10198 [==============================] - 51s 5ms/step - loss: 0.0054 - acc: 0.9978 - val_loss: 0.0047 - val_acc: 0.9980\n",
            "Epoch 4/10\n",
            "10198/10198 [==============================] - 50s 5ms/step - loss: 0.0051 - acc: 0.9978 - val_loss: 0.0045 - val_acc: 0.9979\n",
            "Epoch 5/10\n",
            "10198/10198 [==============================] - 51s 5ms/step - loss: 0.0047 - acc: 0.9980 - val_loss: 0.0036 - val_acc: 0.9983\n",
            "Epoch 6/10\n",
            "10198/10198 [==============================] - 51s 5ms/step - loss: 0.0046 - acc: 0.9979 - val_loss: 0.0045 - val_acc: 0.9979\n",
            "Epoch 7/10\n",
            "10198/10198 [==============================] - 50s 5ms/step - loss: 0.0045 - acc: 0.9980 - val_loss: 0.0048 - val_acc: 0.9979\n",
            "Epoch 8/10\n",
            "10198/10198 [==============================] - 51s 5ms/step - loss: 0.0043 - acc: 0.9981 - val_loss: 0.0043 - val_acc: 0.9981\n",
            "Epoch 9/10\n",
            "10198/10198 [==============================] - 51s 5ms/step - loss: 0.0043 - acc: 0.9981 - val_loss: 0.0044 - val_acc: 0.9980\n",
            "Epoch 10/10\n",
            "10198/10198 [==============================] - 50s 5ms/step - loss: 0.0041 - acc: 0.9982 - val_loss: 0.0034 - val_acc: 0.9985\n",
            "20395/20395 [==============================] - 59s 3ms/step - loss: 0.0037 - acc: 0.9983\n",
            "8741/8741 [==============================] - 26s 3ms/step - loss: 0.0034 - acc: 0.9985\n",
            "Train Accuracy: 99.83\n",
            "Test Accuracy: 99.85\n",
            "Confusion Matrix:  [[279086      0]\n",
            " [   615      0]]\n",
            "Classification Report:                precision    recall  f1-score   support\n",
            "\n",
            "           0       1.00      1.00      1.00    279086\n",
            "           1       0.00      0.00      0.00       615\n",
            "\n",
            "    accuracy                           1.00    279701\n",
            "   macro avg       0.50      0.50      0.50    279701\n",
            "weighted avg       1.00      1.00      1.00    279701\n",
            "\n",
            "Matthews Correlation Coefficient:  0.0\n"
          ]
        },
        {
          "output_type": "display_data",
          "data": {
            "text/plain": [
              "<Figure size 432x288 with 2 Axes>"
            ],
            "image/png": "[encoded data removed]"
          },
          "metadata": {
            "needs_background": "light"
          }
        },
        {
          "output_type": "display_data",
          "data": {
            "text/plain": [
              "<Figure size 432x288 with 2 Axes>"
            ],
            "image/png": "[encoded data removed]"
          },
          "metadata": {
            "needs_background": "light"
          }
        },
        {
          "output_type": "stream",
          "name": "stdout",
          "text": [
            "Execution Time for deep learning model: 11.41 minutes\n"
          ]
        },
        {
          "output_type": "display_data",
          "data": {
            "text/plain": [
              "<Figure size 432x288 with 1 Axes>"
            ],
            "image/png": "[encoded data removed]"
          },
          "metadata": {
            "needs_background": "light"
          }
        },
        {
          "output_type": "display_data",
          "data": {
            "text/plain": [
              "<Figure size 432x288 with 1 Axes>"
            ],
            "image/png": "[encoded data removed]"
          },
          "metadata": {
            "needs_background": "light"
          }
        },
        {
          "output_type": "error",
          "ename": "AttributeError",
          "evalue": "ignored",
          "traceback": [
            "\u001b[0;31m---------------------------------------------------------------------------\u001b[0m",
            "\u001b[0;31mAttributeError\u001b[0m                            Traceback (most recent call last)",
            "\u001b[0;32m<ipython-input-22-0bd167b8e2f5>\u001b[0m in \u001b[0;36m<module>\u001b[0;34m()\u001b[0m\n\u001b[1;32m     15\u001b[0m \u001b[0mros\u001b[0m\u001b[0;34m=\u001b[0m\u001b[0mRandomOverSampler\u001b[0m\u001b[0;34m(\u001b[0m\u001b[0mrandom_state\u001b[0m\u001b[0;34m=\u001b[0m\u001b[0;36m42\u001b[0m\u001b[0;34m)\u001b[0m\u001b[0;34m\u001b[0m\u001b[0;34m\u001b[0m\u001b[0m\n\u001b[1;32m     16\u001b[0m \u001b[0mrus\u001b[0m\u001b[0;34m=\u001b[0m\u001b[0mRandomUnderSampler\u001b[0m\u001b[0;34m(\u001b[0m\u001b[0mrandom_state\u001b[0m\u001b[0;34m=\u001b[0m\u001b[0;36m42\u001b[0m\u001b[0;34m)\u001b[0m\u001b[0;34m\u001b[0m\u001b[0;34m\u001b[0m\u001b[0m\n\u001b[0;32m---> 17\u001b[0;31m \u001b[0mX_train_bal\u001b[0m\u001b[0;34m,\u001b[0m \u001b[0my_train_bal\u001b[0m \u001b[0;34m=\u001b[0m \u001b[0mbsmt\u001b[0m\u001b[0;34m.\u001b[0m\u001b[0mfit_sample\u001b[0m\u001b[0;34m(\u001b[0m\u001b[0mX_train_sfs_scaled\u001b[0m\u001b[0;34m,\u001b[0m \u001b[0my_train\u001b[0m\u001b[0;34m)\u001b[0m\u001b[0;34m\u001b[0m\u001b[0;34m\u001b[0m\u001b[0m\n\u001b[0m\u001b[1;32m     18\u001b[0m \u001b[0mprint\u001b[0m\u001b[0;34m(\u001b[0m\u001b[0mnp\u001b[0m\u001b[0;34m.\u001b[0m\u001b[0mbincount\u001b[0m\u001b[0;34m(\u001b[0m\u001b[0my_train_bal\u001b[0m\u001b[0;34m)\u001b[0m\u001b[0;34m)\u001b[0m\u001b[0;34m\u001b[0m\u001b[0;34m\u001b[0m\u001b[0m\n\u001b[1;32m     19\u001b[0m \u001b[0;34m\u001b[0m\u001b[0m\n",
            "\u001b[0;31mAttributeError\u001b[0m: 'BorderlineSMOTE' object has no attribute 'fit_sample'"
          ]
        }
      ],
      "source": [
        "labels=['Non-Hazardous','Hazardous']\n",
        "\n",
        "NNperformance(init_mode,act,opt,n_top_features,epochs,batch_size,labels,X_train_sfs_scaled, y_train,X_test_sfs_scaled, y_test)\n",
        "\n",
        "\n",
        "\n",
        "\n"
      ]
    },
    {
      "cell_type": "code",
      "source": [
        "from imblearn.over_sampling import SMOTE,RandomOverSampler,BorderlineSMOTE\n",
        "from imblearn.under_sampling import NearMiss,RandomUnderSampler\n",
        "smt = SMOTE()\n",
        "nr = NearMiss()\n",
        "bsmt=BorderlineSMOTE(random_state=42)\n",
        "ros=RandomOverSampler(random_state=42)\n",
        "rus=RandomUnderSampler(random_state=42)\n",
        "X_train_bal, y_train_bal = bsmt.fit_resample(X_train_sfs_scaled, y_train)\n",
        "print(np.bincount(y_train_bal))\n",
        "  \n",
        "NNperformance(init_mode,act,opt,n_top_features,epochs,batch_size,labels,X_train_bal, y_train_bal,X_test_sfs_scaled, y_test)\n"
      ],
      "metadata": {
        "colab": {
          "base_uri": "https://localhost:8080/",
          "height": 244
        },
        "id": "JYTmBbUaYs6g",
        "outputId": "7938ca11-3be1-463c-f60d-194a6f788574"
      },
      "execution_count": null,
      "outputs": [
        {
          "output_type": "error",
          "ename": "NameError",
          "evalue": "ignored",
          "traceback": [
            "\u001b[0;31m---------------------------------------------------------------------------\u001b[0m",
            "\u001b[0;31mNameError\u001b[0m                                 Traceback (most recent call last)",
            "\u001b[0;32m<ipython-input-2-5df4f3b5fb91>\u001b[0m in \u001b[0;36m<module>\u001b[0;34m()\u001b[0m\n\u001b[1;32m      6\u001b[0m \u001b[0mros\u001b[0m\u001b[0;34m=\u001b[0m\u001b[0mRandomOverSampler\u001b[0m\u001b[0;34m(\u001b[0m\u001b[0mrandom_state\u001b[0m\u001b[0;34m=\u001b[0m\u001b[0;36m42\u001b[0m\u001b[0;34m)\u001b[0m\u001b[0;34m\u001b[0m\u001b[0;34m\u001b[0m\u001b[0m\n\u001b[1;32m      7\u001b[0m \u001b[0mrus\u001b[0m\u001b[0;34m=\u001b[0m\u001b[0mRandomUnderSampler\u001b[0m\u001b[0;34m(\u001b[0m\u001b[0mrandom_state\u001b[0m\u001b[0;34m=\u001b[0m\u001b[0;36m42\u001b[0m\u001b[0;34m)\u001b[0m\u001b[0;34m\u001b[0m\u001b[0;34m\u001b[0m\u001b[0m\n\u001b[0;32m----> 8\u001b[0;31m \u001b[0mX_train_bal\u001b[0m\u001b[0;34m,\u001b[0m \u001b[0my_train_bal\u001b[0m \u001b[0;34m=\u001b[0m \u001b[0mbsmt\u001b[0m\u001b[0;34m.\u001b[0m\u001b[0mfit_resample\u001b[0m\u001b[0;34m(\u001b[0m\u001b[0mX_train_sfs_scaled\u001b[0m\u001b[0;34m,\u001b[0m \u001b[0my_train\u001b[0m\u001b[0;34m)\u001b[0m\u001b[0;34m\u001b[0m\u001b[0;34m\u001b[0m\u001b[0m\n\u001b[0m\u001b[1;32m      9\u001b[0m \u001b[0mprint\u001b[0m\u001b[0;34m(\u001b[0m\u001b[0mnp\u001b[0m\u001b[0;34m.\u001b[0m\u001b[0mbincount\u001b[0m\u001b[0;34m(\u001b[0m\u001b[0my_train_bal\u001b[0m\u001b[0;34m)\u001b[0m\u001b[0;34m)\u001b[0m\u001b[0;34m\u001b[0m\u001b[0;34m\u001b[0m\u001b[0m\n\u001b[1;32m     10\u001b[0m \u001b[0;34m\u001b[0m\u001b[0m\n",
            "\u001b[0;31mNameError\u001b[0m: name 'X_train_sfs_scaled' is not defined"
          ]
        }
      ]
    },
    {
      "cell_type": "code",
      "execution_count": null,
      "metadata": {
        "id": "62jeVzhilkTf",
        "colab": {
          "base_uri": "https://localhost:8080/",
          "height": 284
        },
        "outputId": "6a9fa17a-c599-4219-e10a-09cbfda1b4c7"
      },
      "outputs": [
        {
          "output_type": "stream",
          "name": "stdout",
          "text": [
            "8741/8741 [==============================] - 35s 4ms/step - loss: 0.0176 - acc: 0.9960\n"
          ]
        },
        {
          "output_type": "display_data",
          "data": {
            "text/plain": [
              "<Figure size 432x288 with 1 Axes>"
            ],
            "image/png": "[encoded data removed]"
          },
          "metadata": {
            "needs_background": "light"
          }
        }
      ],
      "source": [
        "def plot_classification(model,X_t,y_t):\n",
        "    clf=model\n",
        "    pca = PCA(n_components = 2)\n",
        "    X_t2 = pca.fit_transform(X_t)\n",
        "    clf.fit(X_t2,np.array(y_t))\n",
        "    plot_dr(X_t2, np.array(y_t), clf=clf, legend=2)\n",
        "\n",
        "model_bal=NNmodel(init_mode,act,opt,n_top_features=2)\n",
        "plot_classification(model_bal,X_test_sfs_scaled, y_test)"
      ]
    }
  ],
  "metadata": {
    "interpreter": {
      "hash": "8d5d571525621cf86ed6f968180758c59eea94548699bdc55a82bf10b44d05ca"
    },
    "kernelspec": {
      "display_name": "Python 3.9.12 64-bit (windows store)",
      "language": "python",
      "name": "python3"
    },
    "language_info": {
      "name": "python",
      "version": "3.9.12"
    },
    "orig_nbformat": 4,
    "colab": {
      "name": "asteroid.ipynb",
      "provenance": [],
      "collapsed_sections": []
    },
    "accelerator": "GPU"
  },
  "nbformat": 4,
  "nbformat_minor": 0
}